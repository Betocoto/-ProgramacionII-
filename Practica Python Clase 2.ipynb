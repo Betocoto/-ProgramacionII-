{
 "cells": [
  {
   "cell_type": "markdown",
   "id": "0972b4ec-6d3c-49e7-a2db-c19f64c31dd8",
   "metadata": {},
   "source": [
    "### Practica Python Clase 2\n"
   ]
  },
  {
   "cell_type": "markdown",
   "id": "5e4fb377-34c9-4b07-a9ee-539146aa0904",
   "metadata": {},
   "source": [
    "## Punto 1\n"
   ]
  },
  {
   "cell_type": "markdown",
   "id": "780feb4d-6a42-40bc-a1ed-e4b20feb90e4",
   "metadata": {},
   "source": [
    "1. Desarrolle las siguientes instrucciones en Python:\n",
    "   "
   ]
  },
  {
   "cell_type": "markdown",
   "id": "4c3ff109-17ea-4d75-ba84-5489f4d48303",
   "metadata": {},
   "source": [
    "a) r = | (4³ - 3!) ⋅ (13/12) |\n"
   ]
  },
  {
   "cell_type": "code",
   "execution_count": 5,
   "id": "d5e3c714-83e8-4d4a-837d-0da8ad89af3a",
   "metadata": {},
   "outputs": [
    {
     "data": {
      "text/plain": [
       "62.83333333333333"
      ]
     },
     "execution_count": 5,
     "metadata": {},
     "output_type": "execute_result"
    }
   ],
   "source": [
    "import math as mt\n",
    "r = (pow(4,3) - mt.factorial(3)) * (13/12)\n",
    "r   "
   ]
  },
  {
   "cell_type": "markdown",
   "id": "442080a7-8bcb-40b3-879b-4c69ee688be1",
   "metadata": {},
   "source": [
    "b) r = √24 ⋅ π"
   ]
  },
  {
   "cell_type": "code",
   "execution_count": 6,
   "id": "46d87757-eab8-48a5-bbfc-b4c9f117c335",
   "metadata": {},
   "outputs": [
    {
     "data": {
      "text/plain": [
       "15.390597961942367"
      ]
     },
     "execution_count": 6,
     "metadata": {},
     "output_type": "execute_result"
    }
   ],
   "source": [
    "mt.sqrt(24) * mt.pi"
   ]
  },
  {
   "cell_type": "markdown",
   "id": "15a6425f-7f83-4df5-bcdb-659dd1bebc8a",
   "metadata": {},
   "source": [
    "c) r = | log₁₀(38) |"
   ]
  },
  {
   "cell_type": "code",
   "execution_count": 7,
   "id": "ebe0cbc8-a062-4bdd-bc72-24bed8468b32",
   "metadata": {},
   "outputs": [
    {
     "data": {
      "text/plain": [
       "1.57978359661681"
      ]
     },
     "execution_count": 7,
     "metadata": {},
     "output_type": "execute_result"
    }
   ],
   "source": [
    "mt.log(38,10)"
   ]
  },
  {
   "cell_type": "markdown",
   "id": "1b956192-ce60-4ae9-99c9-13453a0c06e2",
   "metadata": {},
   "source": [
    "## Punto 2 \n",
    "Dada una cadena de texto indique si la cantidad de caracteres en la cadena es un numero par o impar.\n",
    "Realice una prueba para cada uno de los siguientes valores: “agua”, “tierra\", “marte\"."
   ]
  },
  {
   "cell_type": "code",
   "execution_count": 8,
   "id": "b3a80115-af1b-4bda-ae1e-2cc47a1a8ffc",
   "metadata": {},
   "outputs": [
    {
     "name": "stdout",
     "output_type": "stream",
     "text": [
      "El tamaño agua es par \n",
      "El tamaño tierra es par \n",
      "El tamaño tierra es imppar \n"
     ]
    }
   ],
   "source": [
    "mi_variable = \"agua\"\n",
    "mi_variable2 = \"tierra\"\n",
    "mi_variable3 = \"marte\"\n",
    "tam = len(mi_variable)\n",
    "tam2 = len(mi_variable2)\n",
    "tam3 = len (mi_variable3)\n",
    "tam\n",
    "tam2\n",
    "tam3\n",
    "if (len(mi_variable)%2==0):\n",
    "    print(f\"\"\"El tamaño {mi_variable} es par \"\"\")\n",
    "else:\n",
    " print(f\"\"\"El tamaño {mi_variable} es imppar \"\"\")\n",
    "\n",
    "if (len(mi_variable2)%2==0):\n",
    "    print(f\"\"\"El tamaño {mi_variable2} es par \"\"\")\n",
    "else:\n",
    " print(f\"\"\"El tamaño {mi_variable2} es imppar \"\"\")\n",
    "\n",
    "if (len(mi_variable3)%2==0):\n",
    "    print(f\"\"\"El tamaño {mi_variable3} es par \"\"\")\n",
    "else:\n",
    " print(f\"\"\"El tamaño {mi_variable2} es imppar \"\"\")\n"
   ]
  },
  {
   "cell_type": "markdown",
   "id": "e2b0e088-5e87-404a-bbf6-48525a0699d2",
   "metadata": {},
   "source": [
    "### Punto 3\n",
    " Dado x = (15; 34; 72; 23; 91; 4; 201; 68; 56; 78) realice lo siguiente:"
   ]
  },
  {
   "cell_type": "code",
   "execution_count": 9,
   "id": "d6e1b69c-c254-4477-b158-bc96b39c9dd2",
   "metadata": {},
   "outputs": [
    {
     "data": {
      "text/plain": [
       "[15, 34, 72, 23, 91, 4, 201, 68, 56, 78]"
      ]
     },
     "execution_count": 9,
     "metadata": {},
     "output_type": "execute_result"
    }
   ],
   "source": [
    "matriz = [15, 34, 72, 23, 91, 4, 201, 68, 56, 78]\n",
    "matriz"
   ]
  },
  {
   "cell_type": "code",
   "execution_count": 10,
   "id": "23ed2f40-dd27-422a-9a69-13e68055d3f9",
   "metadata": {},
   "outputs": [],
   "source": [
    "import numpy as np\n",
    "import  statistics as st"
   ]
  },
  {
   "cell_type": "markdown",
   "id": "631d0b9f-c883-4a73-909a-3e5ba0770fb1",
   "metadata": {},
   "source": [
    "• Calcule la media, la varianza y la desviación estándar"
   ]
  },
  {
   "cell_type": "code",
   "execution_count": 11,
   "id": "8ee3f728-6654-4260-8c61-a3c2bab5533c",
   "metadata": {
    "jupyter": {
     "source_hidden": true
    }
   },
   "outputs": [
    {
     "data": {
      "text/plain": [
       "64.2"
      ]
     },
     "execution_count": 11,
     "metadata": {},
     "output_type": "execute_result"
    }
   ],
   "source": [
    "st.mean(matriz)"
   ]
  },
  {
   "cell_type": "code",
   "execution_count": 12,
   "id": "6c21a35a-2050-4510-8fc4-b3954bb33645",
   "metadata": {},
   "outputs": [
    {
     "data": {
      "text/plain": [
       "2841.96"
      ]
     },
     "execution_count": 12,
     "metadata": {},
     "output_type": "execute_result"
    }
   ],
   "source": [
    "st.pvariance(matriz)"
   ]
  },
  {
   "cell_type": "code",
   "execution_count": 13,
   "id": "8ee6bdb6-d216-4eb1-866a-77f17d86c214",
   "metadata": {},
   "outputs": [
    {
     "data": {
      "text/plain": [
       "53.310036578490546"
      ]
     },
     "execution_count": 13,
     "metadata": {},
     "output_type": "execute_result"
    }
   ],
   "source": [
    "st.pstdev(matriz)"
   ]
  },
  {
   "cell_type": "markdown",
   "id": "58d8357a-4c45-4486-ad7b-5f4f80174a2c",
   "metadata": {},
   "source": [
    "• Extraiga los primeros 3 valores."
   ]
  },
  {
   "cell_type": "code",
   "execution_count": 14,
   "id": "3f58c84b-e962-4cb1-89c0-1f627194c141",
   "metadata": {},
   "outputs": [
    {
     "name": "stdout",
     "output_type": "stream",
     "text": [
      "[15, 34, 72]\n"
     ]
    }
   ],
   "source": [
    "primeros_valores = matriz [0:3]\n",
    "print (primeros_valores)"
   ]
  },
  {
   "cell_type": "markdown",
   "id": "99cc4183-b02d-4a0a-9399-c484191e4562",
   "metadata": {},
   "source": [
    "• Indique el valor mas pequeño del vector"
   ]
  },
  {
   "cell_type": "code",
   "execution_count": 15,
   "id": "58c9c695-6726-480d-8131-0cc1a92d4105",
   "metadata": {},
   "outputs": [
    {
     "name": "stdout",
     "output_type": "stream",
     "text": [
      "4\n"
     ]
    }
   ],
   "source": [
    "minimo = min(matriz)\n",
    "print(minimo)"
   ]
  },
  {
   "cell_type": "markdown",
   "id": "266702a8-9984-4f2d-aac4-2bb51114719a",
   "metadata": {},
   "source": [
    "• Obtenga la sumatoria de todos los valores del vector."
   ]
  },
  {
   "cell_type": "code",
   "execution_count": 16,
   "id": "ea427467-87d8-4dc8-ac0e-a229fd7aa2fe",
   "metadata": {},
   "outputs": [
    {
     "data": {
      "text/plain": [
       "642"
      ]
     },
     "execution_count": 16,
     "metadata": {},
     "output_type": "execute_result"
    }
   ],
   "source": [
    "sum(matriz)"
   ]
  },
  {
   "cell_type": "markdown",
   "id": "75105da0-65d7-4f95-851c-09d39c32b712",
   "metadata": {},
   "source": [
    "• Obtenga la lista x invertida."
   ]
  },
  {
   "cell_type": "code",
   "execution_count": 17,
   "id": "958312ac-320d-4de7-8390-6e2dbcffaa06",
   "metadata": {},
   "outputs": [
    {
     "data": {
      "text/plain": [
       "[78, 56, 68, 201, 4, 91, 23, 72, 34, 15]"
      ]
     },
     "execution_count": 17,
     "metadata": {},
     "output_type": "execute_result"
    }
   ],
   "source": [
    "matriz.reverse()\n",
    "matriz"
   ]
  },
  {
   "cell_type": "markdown",
   "id": "b6c741e2-edb2-4c1e-aec3-100d9d5c59d6",
   "metadata": {},
   "source": [
    "### Punto 4\n",
    "Genere un DataFrame de la siguiente tabla de datos"
   ]
  },
  {
   "cell_type": "code",
   "execution_count": 18,
   "id": "ff1d0c35-186c-4954-b02b-f21059c4f4ab",
   "metadata": {},
   "outputs": [],
   "source": [
    "import pandas as pd"
   ]
  },
  {
   "cell_type": "code",
   "execution_count": 19,
   "id": "87c564e3-9aa7-483b-95d8-7de40125bada",
   "metadata": {},
   "outputs": [
    {
     "data": {
      "text/html": [
       "<div>\n",
       "<style scoped>\n",
       "    .dataframe tbody tr th:only-of-type {\n",
       "        vertical-align: middle;\n",
       "    }\n",
       "\n",
       "    .dataframe tbody tr th {\n",
       "        vertical-align: top;\n",
       "    }\n",
       "\n",
       "    .dataframe thead th {\n",
       "        text-align: right;\n",
       "    }\n",
       "</style>\n",
       "<table border=\"1\" class=\"dataframe\">\n",
       "  <thead>\n",
       "    <tr style=\"text-align: right;\">\n",
       "      <th></th>\n",
       "      <th>Nombre</th>\n",
       "      <th>Ingles</th>\n",
       "      <th>Ciencias</th>\n",
       "      <th>Español</th>\n",
       "      <th>Historia</th>\n",
       "      <th>Filosofia</th>\n",
       "      <th>Genero</th>\n",
       "    </tr>\n",
       "  </thead>\n",
       "  <tbody>\n",
       "    <tr>\n",
       "      <th>0</th>\n",
       "      <td>Luis</td>\n",
       "      <td>7.8</td>\n",
       "      <td>6.9</td>\n",
       "      <td>8.5</td>\n",
       "      <td>7.2</td>\n",
       "      <td>9.1</td>\n",
       "      <td>M</td>\n",
       "    </tr>\n",
       "    <tr>\n",
       "      <th>1</th>\n",
       "      <td>Andres</td>\n",
       "      <td>6.5</td>\n",
       "      <td>9.0</td>\n",
       "      <td>7.8</td>\n",
       "      <td>6.9</td>\n",
       "      <td>7.4</td>\n",
       "      <td>M</td>\n",
       "    </tr>\n",
       "    <tr>\n",
       "      <th>2</th>\n",
       "      <td>Maria</td>\n",
       "      <td>7.2</td>\n",
       "      <td>7.5</td>\n",
       "      <td>9.1</td>\n",
       "      <td>8.0</td>\n",
       "      <td>7.8</td>\n",
       "      <td>F</td>\n",
       "    </tr>\n",
       "    <tr>\n",
       "      <th>3</th>\n",
       "      <td>Andrea</td>\n",
       "      <td>5.3</td>\n",
       "      <td>6.7</td>\n",
       "      <td>6.2</td>\n",
       "      <td>9.5</td>\n",
       "      <td>8.6</td>\n",
       "      <td>F</td>\n",
       "    </tr>\n",
       "    <tr>\n",
       "      <th>4</th>\n",
       "      <td>Carlos</td>\n",
       "      <td>6.1</td>\n",
       "      <td>6.3</td>\n",
       "      <td>7.9</td>\n",
       "      <td>8.4</td>\n",
       "      <td>7.8</td>\n",
       "      <td>M</td>\n",
       "    </tr>\n",
       "    <tr>\n",
       "      <th>5</th>\n",
       "      <td>Sofia</td>\n",
       "      <td>7.0</td>\n",
       "      <td>9.2</td>\n",
       "      <td>7.6</td>\n",
       "      <td>8.1</td>\n",
       "      <td>6.8</td>\n",
       "      <td>F</td>\n",
       "    </tr>\n",
       "  </tbody>\n",
       "</table>\n",
       "</div>"
      ],
      "text/plain": [
       "   Nombre  Ingles  Ciencias  Español  Historia  Filosofia Genero\n",
       "0    Luis     7.8       6.9      8.5       7.2        9.1      M\n",
       "1  Andres     6.5       9.0      7.8       6.9        7.4      M\n",
       "2   Maria     7.2       7.5      9.1       8.0        7.8      F\n",
       "3  Andrea     5.3       6.7      6.2       9.5        8.6      F\n",
       "4  Carlos     6.1       6.3      7.9       8.4        7.8      M\n",
       "5   Sofia     7.0       9.2      7.6       8.1        6.8      F"
      ]
     },
     "execution_count": 19,
     "metadata": {},
     "output_type": "execute_result"
    }
   ],
   "source": [
    "data_frame = {'Nombre': [\"Luis\",\"Andres\", \"Maria\", \"Andrea\", \"Carlos\", \"Sofia\"],\n",
    "             'Ingles': [7.8,6.5,7.2,5.3,6.1,7.0],\n",
    "             'Ciencias': [6.9,9.0,7.5,6.7,6.3,9.2],\n",
    "             'Español': [8.5,7.8,9.1,6.2,7.9,7.6],\n",
    "             'Historia': [7.2,6.9,8.0,9.5,8.4,8.1],\n",
    "             'Filosofia':[9.1,7.4,7.8,8.6,7.8,6.8] ,\n",
    "             'Genero': [\"M\", \"M\", \"F\", \"F\", \"M\", \"F\"]}\n",
    "Mi_Data_Frame = pd.DataFrame(data_frame)\n",
    "Mi_Data_Frame"
   ]
  },
  {
   "cell_type": "code",
   "execution_count": null,
   "id": "2cbe2440-d3ef-45cc-a0c8-b33418f96a96",
   "metadata": {},
   "outputs": [],
   "source": []
  }
 ],
 "metadata": {
  "kernelspec": {
   "display_name": "Python 3 (ipykernel)",
   "language": "python",
   "name": "python3"
  },
  "language_info": {
   "codemirror_mode": {
    "name": "ipython",
    "version": 3
   },
   "file_extension": ".py",
   "mimetype": "text/x-python",
   "name": "python",
   "nbconvert_exporter": "python",
   "pygments_lexer": "ipython3",
   "version": "3.12.7"
  }
 },
 "nbformat": 4,
 "nbformat_minor": 5
}
